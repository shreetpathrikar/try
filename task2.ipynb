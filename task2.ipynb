{
 "cells": [
  {
   "cell_type": "code",
   "execution_count": 4,
   "metadata": {},
   "outputs": [
    {
     "name": "stdout",
     "output_type": "stream",
     "text": [
      "Longest palindrome in 'amamam': amam\n"
     ]
    }
   ],
   "source": [
    "def longest_palindrome(s):\n",
    "  \n",
    "  start = 0\n",
    "  max_len = 0\n",
    "\n",
    "  for i in range(len(s)):\n",
    "    \n",
    "    len1 = expand_around_center(s, i, i)\n",
    "    \n",
    "    len2 = expand_around_center(s, i, i + 1)\n",
    "\n",
    "    \n",
    "    if max_len < max(len1, len2):\n",
    "      start = i if len1 > len2 else i - 1\n",
    "      max_len = max(len1, len2)\n",
    "\n",
    "  return s[start:start + max_len]\n",
    "\n",
    "def expand_around_center(s, left, right):\n",
    " \n",
    "  while left >= 0 and right < len(s) and s[left] == s[right]:\n",
    "    left -= 1\n",
    "    right += 1\n",
    "\n",
    "  return right - left - 1\n",
    "\n",
    "\n",
    "text = \"amamam\"\n",
    "result = longest_palindrome(text)\n",
    "print(f\"Longest palindrome in '{text}': {result}\")\n"
   ]
  },
  {
   "cell_type": "code",
   "execution_count": null,
   "metadata": {},
   "outputs": [],
   "source": []
  }
 ],
 "metadata": {
  "kernelspec": {
   "display_name": "Python 3",
   "language": "python",
   "name": "python3"
  },
  "language_info": {
   "codemirror_mode": {
    "name": "ipython",
    "version": 3
   },
   "file_extension": ".py",
   "mimetype": "text/x-python",
   "name": "python",
   "nbconvert_exporter": "python",
   "pygments_lexer": "ipython3",
   "version": "3.11.4"
  }
 },
 "nbformat": 4,
 "nbformat_minor": 2
}
